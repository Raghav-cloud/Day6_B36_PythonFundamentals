{
 "cells": [
  {
   "cell_type": "code",
   "execution_count": 1,
   "metadata": {},
   "outputs": [
    {
     "name": "stdout",
     "output_type": "stream",
     "text": [
      "['monika', 'arvind', 'suresh', 'navneetha', 'paras', 'sadeque', 'muskaan']\n"
     ]
    }
   ],
   "source": [
    "students = ['monika', 'arvind', 'suresh', 'navneetha', 'paras', 'sadeque', 'muskaan']\n",
    "print(students)"
   ]
  },
  {
   "cell_type": "code",
   "execution_count": 2,
   "metadata": {},
   "outputs": [
    {
     "data": {
      "text/plain": [
       "list"
      ]
     },
     "execution_count": 2,
     "metadata": {},
     "output_type": "execute_result"
    }
   ],
   "source": [
    "type(students)"
   ]
  },
  {
   "cell_type": "code",
   "execution_count": 3,
   "metadata": {},
   "outputs": [
    {
     "name": "stdout",
     "output_type": "stream",
     "text": [
      "keep up the good work, Monika\n"
     ]
    }
   ],
   "source": [
    "print(f\"keep up the good work, {students[0].title()}\")"
   ]
  },
  {
   "cell_type": "code",
   "execution_count": 4,
   "metadata": {},
   "outputs": [
    {
     "name": "stdout",
     "output_type": "stream",
     "text": [
      "keep up the good work, Suresh\n"
     ]
    }
   ],
   "source": [
    "print(f\"keep up the good work, {students[2].title()}\")"
   ]
  },
  {
   "cell_type": "code",
   "execution_count": 5,
   "metadata": {},
   "outputs": [
    {
     "name": "stdout",
     "output_type": "stream",
     "text": [
      "sanjeet\n"
     ]
    }
   ],
   "source": [
    "name = 'sanjeet'\n",
    "print(name)"
   ]
  },
  {
   "cell_type": "code",
   "execution_count": 6,
   "metadata": {},
   "outputs": [
    {
     "name": "stdout",
     "output_type": "stream",
     "text": [
      "Raghav\n"
     ]
    }
   ],
   "source": [
    "name1='Raghav'\n",
    "print(name1)"
   ]
  },
  {
   "cell_type": "code",
   "execution_count": 7,
   "metadata": {},
   "outputs": [
    {
     "name": "stdout",
     "output_type": "stream",
     "text": [
      "keep up the good work, Monika\n",
      "keep up the good work, Arvind\n",
      "keep up the good work, Suresh\n",
      "keep up the good work, Navneetha\n",
      "keep up the good work, Paras\n",
      "keep up the good work, Sadeque\n",
      "keep up the good work, Muskaan\n"
     ]
    }
   ],
   "source": [
    "for x in students:\n",
    "    print(f\"keep up the good work, {x.title()}\")"
   ]
  },
  {
   "cell_type": "code",
   "execution_count": 8,
   "metadata": {},
   "outputs": [
    {
     "name": "stdout",
     "output_type": "stream",
     "text": [
      "keep up the good work, Muskaan\n",
      "keep up the good work, Muskaan\n",
      "keep up the good work, Muskaan\n",
      "keep up the good work, Muskaan\n",
      "keep up the good work, Muskaan\n",
      "keep up the good work, Muskaan\n",
      "keep up the good work, Muskaan\n"
     ]
    }
   ],
   "source": [
    "for ironman in students:\n",
    "    print(f\"keep up the good work, {x.title()}\")"
   ]
  },
  {
   "cell_type": "code",
   "execution_count": 9,
   "metadata": {},
   "outputs": [
    {
     "name": "stdout",
     "output_type": "stream",
     "text": [
      "keep up the good work, Monika\n",
      "keep up the good work, Arvind\n",
      "keep up the good work, Suresh\n",
      "keep up the good work, Navneetha\n",
      "keep up the good work, Paras\n",
      "keep up the good work, Sadeque\n",
      "keep up the good work, Muskaan\n"
     ]
    }
   ],
   "source": [
    "for ironman in students:\n",
    "    print(f\"keep up the good work, {ironman.title()}\")"
   ]
  },
  {
   "cell_type": "code",
   "execution_count": 10,
   "metadata": {},
   "outputs": [
    {
     "name": "stdout",
     "output_type": "stream",
     "text": [
      "keep up the good work, Monika\n",
      "loking forward to receive the github urls of today, Monika\n",
      "keep up the good work, Arvind\n",
      "loking forward to receive the github urls of today, Arvind\n",
      "keep up the good work, Suresh\n",
      "loking forward to receive the github urls of today, Suresh\n",
      "keep up the good work, Navneetha\n",
      "loking forward to receive the github urls of today, Navneetha\n",
      "keep up the good work, Paras\n",
      "loking forward to receive the github urls of today, Paras\n",
      "keep up the good work, Sadeque\n",
      "loking forward to receive the github urls of today, Sadeque\n",
      "keep up the good work, Muskaan\n",
      "loking forward to receive the github urls of today, Muskaan\n"
     ]
    }
   ],
   "source": [
    "for x in students:\n",
    "    print(f\"keep up the good work, {x.title()}\")\n",
    "    print(f\"loking forward to receive the github urls of today, {x.title()}\")"
   ]
  },
  {
   "cell_type": "code",
   "execution_count": 11,
   "metadata": {},
   "outputs": [
    {
     "name": "stdout",
     "output_type": "stream",
     "text": [
      "keep up the good work, Monika\n",
      "looking forward to receive the github urls of the today's class, Monika\n",
      "\n",
      "keep up the good work, Arvind\n",
      "looking forward to receive the github urls of the today's class, Arvind\n",
      "\n",
      "keep up the good work, Suresh\n",
      "looking forward to receive the github urls of the today's class, Suresh\n",
      "\n",
      "keep up the good work, Navneetha\n",
      "looking forward to receive the github urls of the today's class, Navneetha\n",
      "\n",
      "keep up the good work, Paras\n",
      "looking forward to receive the github urls of the today's class, Paras\n",
      "\n",
      "keep up the good work, Sadeque\n",
      "looking forward to receive the github urls of the today's class, Sadeque\n",
      "\n",
      "keep up the good work, Muskaan\n",
      "looking forward to receive the github urls of the today's class, Muskaan\n",
      "\n"
     ]
    }
   ],
   "source": [
    "for x in students:\n",
    "    print(f\"keep up the good work, {x.title()}\")\n",
    "    print(f\"looking forward to receive the github urls of the today's class, {x.title()}\\n\")"
   ]
  },
  {
   "cell_type": "code",
   "execution_count": 12,
   "metadata": {},
   "outputs": [
    {
     "name": "stdout",
     "output_type": "stream",
     "text": [
      "keep up the good work, Monika\n",
      "looking forward to receive the github urls of today, Monika\n",
      "\n",
      "keep up the good work, Arvind\n",
      "looking forward to receive the github urls of today, Arvind\n",
      "\n",
      "keep up the good work, Suresh\n",
      "looking forward to receive the github urls of today, Suresh\n",
      "\n",
      "keep up the good work, Navneetha\n",
      "looking forward to receive the github urls of today, Navneetha\n",
      "\n",
      "keep up the good work, Paras\n",
      "looking forward to receive the github urls of today, Paras\n",
      "\n",
      "keep up the good work, Sadeque\n",
      "looking forward to receive the github urls of today, Sadeque\n",
      "\n",
      "keep up the good work, Muskaan\n",
      "looking forward to receive the github urls of today, Muskaan\n",
      "\n",
      "Thank you all for showing interest in learning Python\n"
     ]
    }
   ],
   "source": [
    "for x in students:\n",
    "    print(f\"keep up the good work, {x.title()}\")\n",
    "    print(f\"looking forward to receive the github urls of today, {x.title()}\\n\")\n",
    "\n",
    "print(\"Thank you all for showing interest in learning Python\")"
   ]
  },
  {
   "cell_type": "code",
   "execution_count": null,
   "metadata": {},
   "outputs": [],
   "source": []
  },
  {
   "cell_type": "code",
   "execution_count": null,
   "metadata": {},
   "outputs": [],
   "source": []
  },
  {
   "cell_type": "code",
   "execution_count": null,
   "metadata": {},
   "outputs": [],
   "source": []
  },
  {
   "cell_type": "code",
   "execution_count": null,
   "metadata": {},
   "outputs": [],
   "source": []
  }
 ],
 "metadata": {
  "kernelspec": {
   "display_name": "Python 3",
   "language": "python",
   "name": "python3"
  },
  "language_info": {
   "codemirror_mode": {
    "name": "ipython",
    "version": 3
   },
   "file_extension": ".py",
   "mimetype": "text/x-python",
   "name": "python",
   "nbconvert_exporter": "python",
   "pygments_lexer": "ipython3",
   "version": "3.8.3"
  }
 },
 "nbformat": 4,
 "nbformat_minor": 4
}
